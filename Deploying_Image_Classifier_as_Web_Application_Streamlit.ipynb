{
  "nbformat": 4,
  "nbformat_minor": 0,
  "metadata": {
    "colab": {
      "provenance": []
    },
    "kernelspec": {
      "name": "python3",
      "display_name": "Python 3"
    },
    "language_info": {
      "name": "python"
    }
  },
  "cells": [
    {
      "cell_type": "code",
      "source": [
        "!pip install -U ipykernel"
      ],
      "metadata": {
        "colab": {
          "base_uri": "https://localhost:8080/"
        },
        "id": "V6aO471UiP_X",
        "outputId": "91020bbf-bd3b-4329-eade-d9cca8b621a6"
      },
      "execution_count": 1,
      "outputs": [
        {
          "output_type": "stream",
          "name": "stdout",
          "text": [
            "Looking in indexes: https://pypi.org/simple, https://us-python.pkg.dev/colab-wheels/public/simple/\n",
            "Requirement already satisfied: ipykernel in /usr/local/lib/python3.8/dist-packages (6.19.2)\n",
            "Requirement already satisfied: jupyter-client>=6.1.12 in /usr/local/lib/python3.8/dist-packages (from ipykernel) (6.1.12)\n",
            "Requirement already satisfied: matplotlib-inline>=0.1 in /usr/local/lib/python3.8/dist-packages (from ipykernel) (0.1.6)\n",
            "Requirement already satisfied: debugpy>=1.0 in /usr/local/lib/python3.8/dist-packages (from ipykernel) (1.0.0)\n",
            "Requirement already satisfied: packaging in /usr/local/lib/python3.8/dist-packages (from ipykernel) (21.3)\n",
            "Requirement already satisfied: tornado>=6.1 in /usr/local/lib/python3.8/dist-packages (from ipykernel) (6.2)\n",
            "Requirement already satisfied: pyzmq>=17 in /usr/local/lib/python3.8/dist-packages (from ipykernel) (23.2.1)\n",
            "Requirement already satisfied: traitlets>=5.4.0 in /usr/local/lib/python3.8/dist-packages (from ipykernel) (5.7.1)\n",
            "Requirement already satisfied: psutil in /usr/local/lib/python3.8/dist-packages (from ipykernel) (5.4.8)\n",
            "Requirement already satisfied: comm>=0.1.1 in /usr/local/lib/python3.8/dist-packages (from ipykernel) (0.1.2)\n",
            "Requirement already satisfied: nest-asyncio in /usr/local/lib/python3.8/dist-packages (from ipykernel) (1.5.6)\n",
            "Requirement already satisfied: ipython>=7.23.1 in /usr/local/lib/python3.8/dist-packages (from ipykernel) (8.7.0)\n",
            "Requirement already satisfied: pexpect>4.3 in /usr/local/lib/python3.8/dist-packages (from ipython>=7.23.1->ipykernel) (4.8.0)\n",
            "Requirement already satisfied: backcall in /usr/local/lib/python3.8/dist-packages (from ipython>=7.23.1->ipykernel) (0.2.0)\n",
            "Requirement already satisfied: prompt-toolkit<3.1.0,>=3.0.11 in /usr/local/lib/python3.8/dist-packages (from ipython>=7.23.1->ipykernel) (3.0.36)\n",
            "Requirement already satisfied: decorator in /usr/local/lib/python3.8/dist-packages (from ipython>=7.23.1->ipykernel) (4.4.2)\n",
            "Requirement already satisfied: pygments>=2.4.0 in /usr/local/lib/python3.8/dist-packages (from ipython>=7.23.1->ipykernel) (2.6.1)\n",
            "Requirement already satisfied: jedi>=0.16 in /usr/local/lib/python3.8/dist-packages (from ipython>=7.23.1->ipykernel) (0.18.2)\n",
            "Requirement already satisfied: stack-data in /usr/local/lib/python3.8/dist-packages (from ipython>=7.23.1->ipykernel) (0.6.2)\n",
            "Requirement already satisfied: pickleshare in /usr/local/lib/python3.8/dist-packages (from ipython>=7.23.1->ipykernel) (0.7.5)\n",
            "Requirement already satisfied: parso<0.9.0,>=0.8.0 in /usr/local/lib/python3.8/dist-packages (from jedi>=0.16->ipython>=7.23.1->ipykernel) (0.8.3)\n",
            "Requirement already satisfied: python-dateutil>=2.1 in /usr/local/lib/python3.8/dist-packages (from jupyter-client>=6.1.12->ipykernel) (2.8.2)\n",
            "Requirement already satisfied: jupyter-core>=4.6.0 in /usr/local/lib/python3.8/dist-packages (from jupyter-client>=6.1.12->ipykernel) (5.1.0)\n",
            "Requirement already satisfied: platformdirs>=2.5 in /usr/local/lib/python3.8/dist-packages (from jupyter-core>=4.6.0->jupyter-client>=6.1.12->ipykernel) (2.6.0)\n",
            "Requirement already satisfied: ptyprocess>=0.5 in /usr/local/lib/python3.8/dist-packages (from pexpect>4.3->ipython>=7.23.1->ipykernel) (0.7.0)\n",
            "Requirement already satisfied: wcwidth in /usr/local/lib/python3.8/dist-packages (from prompt-toolkit<3.1.0,>=3.0.11->ipython>=7.23.1->ipykernel) (0.2.5)\n",
            "Requirement already satisfied: six>=1.5 in /usr/local/lib/python3.8/dist-packages (from python-dateutil>=2.1->jupyter-client>=6.1.12->ipykernel) (1.15.0)\n",
            "Requirement already satisfied: pyparsing!=3.0.5,>=2.0.2 in /usr/local/lib/python3.8/dist-packages (from packaging->ipykernel) (3.0.9)\n",
            "Requirement already satisfied: pure-eval in /usr/local/lib/python3.8/dist-packages (from stack-data->ipython>=7.23.1->ipykernel) (0.2.2)\n",
            "Requirement already satisfied: asttokens>=2.1.0 in /usr/local/lib/python3.8/dist-packages (from stack-data->ipython>=7.23.1->ipykernel) (2.2.1)\n",
            "Requirement already satisfied: executing>=1.2.0 in /usr/local/lib/python3.8/dist-packages (from stack-data->ipython>=7.23.1->ipykernel) (1.2.0)\n"
          ]
        }
      ]
    },
    {
      "cell_type": "code",
      "source": [
        "!pip install -q streamlit"
      ],
      "metadata": {
        "colab": {
          "base_uri": "https://localhost:8080/"
        },
        "id": "rfJIT4n-jcWe",
        "outputId": "899058bd-1228-4b20-e3ac-0bbbe9892d8a"
      },
      "execution_count": 2,
      "outputs": [
        {
          "output_type": "stream",
          "name": "stdout",
          "text": [
            "\u001b[K     |████████████████████████████████| 9.2 MB 5.2 MB/s \n",
            "\u001b[K     |████████████████████████████████| 164 kB 77.8 MB/s \n",
            "\u001b[K     |████████████████████████████████| 78 kB 6.5 MB/s \n",
            "\u001b[K     |████████████████████████████████| 4.7 MB 58.0 MB/s \n",
            "\u001b[K     |████████████████████████████████| 182 kB 51.0 MB/s \n",
            "\u001b[K     |████████████████████████████████| 237 kB 64.2 MB/s \n",
            "\u001b[K     |████████████████████████████████| 62 kB 1.3 MB/s \n",
            "\u001b[K     |████████████████████████████████| 51 kB 6.7 MB/s \n",
            "\u001b[?25h  Building wheel for validators (setup.py) ... \u001b[?25l\u001b[?25hdone\n"
          ]
        }
      ]
    },
    {
      "cell_type": "code",
      "source": [
        "!pip install pyngrok"
      ],
      "metadata": {
        "colab": {
          "base_uri": "https://localhost:8080/"
        },
        "id": "l9I2yn6SjrgM",
        "outputId": "d884c8e6-0e54-46d0-b1c2-35ff11dbc264"
      },
      "execution_count": 3,
      "outputs": [
        {
          "output_type": "stream",
          "name": "stdout",
          "text": [
            "Looking in indexes: https://pypi.org/simple, https://us-python.pkg.dev/colab-wheels/public/simple/\n",
            "Collecting pyngrok\n",
            "  Downloading pyngrok-5.2.1.tar.gz (761 kB)\n",
            "\u001b[K     |████████████████████████████████| 761 kB 5.0 MB/s \n",
            "\u001b[?25hRequirement already satisfied: PyYAML in /usr/local/lib/python3.8/dist-packages (from pyngrok) (6.0)\n",
            "Building wheels for collected packages: pyngrok\n",
            "  Building wheel for pyngrok (setup.py) ... \u001b[?25l\u001b[?25hdone\n",
            "  Created wheel for pyngrok: filename=pyngrok-5.2.1-py3-none-any.whl size=19792 sha256=d88a985e9d1cd03a38ac67784dc42b2b8bc460700265da90e1a84a3a9d9e03bc\n",
            "  Stored in directory: /root/.cache/pip/wheels/5d/f2/70/526da675d32f17577ec47ac4c663084efe39d47c826b6c3bb1\n",
            "Successfully built pyngrok\n",
            "Installing collected packages: pyngrok\n",
            "Successfully installed pyngrok-5.2.1\n"
          ]
        }
      ]
    },
    {
      "cell_type": "code",
      "source": [
        "!ngrok authtoken 228SxHRZ3XxoM2EiP5fSktRYc5O_66AwTkD6sdQMxpvG8B6V"
      ],
      "metadata": {
        "colab": {
          "base_uri": "https://localhost:8080/"
        },
        "id": "0ua3Xn67j6_C",
        "outputId": "043c0e8e-5c48-48e7-a98a-63b6ef0bcf88"
      },
      "execution_count": 8,
      "outputs": [
        {
          "output_type": "stream",
          "name": "stdout",
          "text": [
            "Authtoken saved to configuration file: /root/.ngrok2/ngrok.yml\n"
          ]
        }
      ]
    },
    {
      "cell_type": "code",
      "source": [
        "%%writefile score.py\n",
        "import tensorflow as tf\n",
        "import numpy as np\n",
        "import streamlit as st\n",
        "from PIL import Image\n",
        "import requests \n",
        "from io import BytesIO\n",
        "\n",
        "st.set_option('deprecation.showfileUploaderEncoding', False)\n",
        "st.title(\"Bean Image Classifier\")\n",
        "st.text(\"Provide URL of bean image for Image Classification\")\n",
        "\n",
        "@st.cache(allow_output_mutation = True) #in this particular function we will cache the model and use the object from the next time\n",
        "\n",
        "\n",
        "#load model function \n",
        "def load_model():\n",
        "    model = tf.keras.models.load_model('/content/drive/MyDrive/Coding/AI ML')\n",
        "    return model\n",
        "\n",
        "\n",
        "with st.spinner('Loading Model into memory ...')\n",
        "    model = load_model()\n",
        "\n",
        "classes = ['angular_leaf_spot', 'bean_rust', 'healthy']\n",
        "\n",
        "def scale(image):\n",
        "    image = tf.cast(image, tf.float32)\n",
        "    image /= 255.0 # dividing by 255 so that pixels are converted between 0 to 1\n",
        "\n",
        "    return tf.image.resize(image, [224,224]) #mobilenet model required input 224, 224\n",
        "\n",
        "\n",
        "def decode_img(image):\n",
        "    img = tf.image.decode_jpeg(image, channels = 3) # converting to jped with channel 3 \n",
        "    img = scale(img) #scaling the images \n",
        "    return np.expand_dims(img, axis = 0) # expanding the dimensions , will add 1 before image dimensoin of (224, 224, 3)\n",
        "\n",
        "#taking the image URL\n",
        "path = st.text_input(\"Enter image url: \", 'https://www.google.com/url?sa=i&url=https%3A%2F%2Fwww.123rf.com%2Fphoto_22734283_beans-leaf.html&psig=AOvVaw0TjE7F8T2X8MjAAcWbgG0o&ust=1671460907343000&source=images&cd=vfe&ved=0CBAQjRxqFwoTCJj_p6Czg_wCFQAAAAAdAAAAABAM')\n",
        "\n",
        "if path is not None: # if we get empty path\n",
        "    content = requests.get(path).content #will go to the url and convert the particular value to byte array and will assign it to content object\n",
        "\n",
        "\n",
        "    st.write(\"predicted class\") \n",
        "    with st.spinner('classifying....'):\n",
        "        label = np.argmax(model.predict(decode_img(content)), axis = 1) #calling the decode image tkes the image object and scales them and has a bathch dimention #outout will haave 3 diff probablity score, we need the maximun, so argmax will takee the maximum index score and will assign it to label\n",
        "        #passing the predicted label class \n",
        "        st.write(classes[label[0]])\n",
        "    st.write(\"\")\n",
        "    image = Image.open(BytesIO(content)) #opening the imge, passing the content and converting it to bytes \n",
        "    st.image(image, caption = 'Classifying Bean Image', use_column_width = True)\n",
        " \n"
      ],
      "metadata": {
        "colab": {
          "base_uri": "https://localhost:8080/"
        },
        "id": "seDU3n9dkwIo",
        "outputId": "f444def0-f27f-4b28-f9d8-e872112868f2"
      },
      "execution_count": 12,
      "outputs": [
        {
          "output_type": "stream",
          "name": "stdout",
          "text": [
            "Writing score.py\n"
          ]
        }
      ]
    },
    {
      "cell_type": "code",
      "source": [
        "!nohup streamlit run score.py & # will run in local, we want to runin background for ngrok to use publuc url so we're using & to run in background, and we're using nohup to display the output to a command called nohup\n"
      ],
      "metadata": {
        "colab": {
          "base_uri": "https://localhost:8080/"
        },
        "id": "NohpQG2rwc9X",
        "outputId": "2e85b3c7-94fc-480f-f9ed-3f5db84faad6"
      },
      "execution_count": 16,
      "outputs": [
        {
          "output_type": "stream",
          "name": "stdout",
          "text": [
            "nohup: appending output to 'nohup.out'\n"
          ]
        }
      ]
    },
    {
      "cell_type": "code",
      "source": [
        "from pyngrok import ngrok\n",
        "url = ngrok.connect(port=8501)\n",
        "url"
      ],
      "metadata": {
        "id": "2PrkeuCDxAEv"
      },
      "execution_count": null,
      "outputs": []
    },
    {
      "cell_type": "code",
      "source": [
        "!cat nohup.out"
      ],
      "metadata": {
        "colab": {
          "base_uri": "https://localhost:8080/"
        },
        "id": "6uvtmuxzxNAn",
        "outputId": "af70092f-3724-447b-f764-13cd86de9cf0"
      },
      "execution_count": 15,
      "outputs": [
        {
          "output_type": "stream",
          "name": "stdout",
          "text": [
            "Traceback (most recent call last):\n",
            "  File \"/usr/local/bin/streamlit\", line 5, in <module>\n",
            "    from streamlit.web.cli import main\n",
            "  File \"/usr/local/lib/python3.8/dist-packages/streamlit/__init__.py\", line 55, in <module>\n",
            "    from streamlit.delta_generator import DeltaGenerator as _DeltaGenerator\n",
            "  File \"/usr/local/lib/python3.8/dist-packages/streamlit/delta_generator.py\", line 38, in <module>\n",
            "    from streamlit import config, cursor, env_util, logger, runtime, type_util, util\n",
            "  File \"/usr/local/lib/python3.8/dist-packages/streamlit/cursor.py\", line 18, in <module>\n",
            "    from streamlit.runtime.scriptrunner import get_script_run_ctx\n",
            "  File \"/usr/local/lib/python3.8/dist-packages/streamlit/runtime/__init__.py\", line 16, in <module>\n",
            "    from streamlit.runtime.runtime import Runtime as Runtime\n",
            "  File \"/usr/local/lib/python3.8/dist-packages/streamlit/runtime/runtime.py\", line 26, in <module>\n",
            "    from streamlit.proto.BackMsg_pb2 import BackMsg\n",
            "  File \"/usr/local/lib/python3.8/dist-packages/streamlit/proto/BackMsg_pb2.py\", line 5, in <module>\n",
            "    from google.protobuf.internal import builder as _builder\n",
            "ImportError: cannot import name 'builder' from 'google.protobuf.internal' (/usr/local/lib/python3.8/dist-packages/google/protobuf/internal/__init__.py)\n"
          ]
        }
      ]
    },
    {
      "cell_type": "code",
      "source": [],
      "metadata": {
        "id": "o7H2f2e8xVQi"
      },
      "execution_count": null,
      "outputs": []
    }
  ]
}